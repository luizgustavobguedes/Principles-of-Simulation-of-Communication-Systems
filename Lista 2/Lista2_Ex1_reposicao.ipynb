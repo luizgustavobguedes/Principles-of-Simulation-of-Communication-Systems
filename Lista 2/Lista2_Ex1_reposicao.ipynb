{
  "nbformat": 4,
  "nbformat_minor": 0,
  "metadata": {
    "colab": {
      "provenance": []
    },
    "kernelspec": {
      "name": "python3",
      "display_name": "Python 3"
    },
    "language_info": {
      "name": "python"
    }
  },
  "cells": [
    {
      "cell_type": "code",
      "execution_count": null,
      "metadata": {
        "colab": {
          "base_uri": "https://localhost:8080/"
        },
        "id": "goq7oPtfVazT",
        "outputId": "2ad264c7-d96c-47c1-f099-365f85c95ae4"
      },
      "outputs": [
        {
          "output_type": "stream",
          "name": "stdout",
          "text": [
            "Requirement already satisfied: numpy in /usr/local/lib/python3.10/dist-packages (1.25.2)\n",
            "Requirement already satisfied: matplotlib in /usr/local/lib/python3.10/dist-packages (3.7.1)\n",
            "Requirement already satisfied: contourpy>=1.0.1 in /usr/local/lib/python3.10/dist-packages (from matplotlib) (1.2.0)\n",
            "Requirement already satisfied: cycler>=0.10 in /usr/local/lib/python3.10/dist-packages (from matplotlib) (0.12.1)\n",
            "Requirement already satisfied: fonttools>=4.22.0 in /usr/local/lib/python3.10/dist-packages (from matplotlib) (4.50.0)\n",
            "Requirement already satisfied: kiwisolver>=1.0.1 in /usr/local/lib/python3.10/dist-packages (from matplotlib) (1.4.5)\n",
            "Requirement already satisfied: numpy>=1.20 in /usr/local/lib/python3.10/dist-packages (from matplotlib) (1.25.2)\n",
            "Requirement already satisfied: packaging>=20.0 in /usr/local/lib/python3.10/dist-packages (from matplotlib) (24.0)\n",
            "Requirement already satisfied: pillow>=6.2.0 in /usr/local/lib/python3.10/dist-packages (from matplotlib) (9.4.0)\n",
            "Requirement already satisfied: pyparsing>=2.3.1 in /usr/local/lib/python3.10/dist-packages (from matplotlib) (3.1.2)\n",
            "Requirement already satisfied: python-dateutil>=2.7 in /usr/local/lib/python3.10/dist-packages (from matplotlib) (2.8.2)\n",
            "Requirement already satisfied: six>=1.5 in /usr/local/lib/python3.10/dist-packages (from python-dateutil>=2.7->matplotlib) (1.16.0)\n"
          ]
        }
      ],
      "source": [
        "!pip install numpy\n",
        "!pip install matplotlib"
      ]
    },
    {
      "cell_type": "code",
      "source": [
        "import numpy as np\n",
        "import matplotlib.pyplot as plt"
      ],
      "metadata": {
        "id": "VPbZJGHZV9L9"
      },
      "execution_count": 2,
      "outputs": []
    },
    {
      "cell_type": "markdown",
      "source": [
        "Exercício 1\n",
        "Considerando reposição das bolas:"
      ],
      "metadata": {
        "id": "foKYB35ALYuw"
      }
    },
    {
      "cell_type": "code",
      "source": [
        "# Há 40 bolas no chapéu\n",
        "total_de_bolas = 40\n",
        "\n",
        "# Para o cálculo da probabilidade, executarei 10000 vezes o experimento\n",
        "qtd_de_experimentos = 100000\n",
        "\n",
        "# Terá reposição? (1: Sim, 0: Não)\n",
        "repo = True\n",
        "\n",
        "# Para cada cor de bola, associa-se um número inteiro de 1 a 4\n",
        "bolas_disponiveis = np.array([1, 2, 3, 4])\n",
        "# 1: vermelha, 2: azul, 3: amarela, 4: roxa\n",
        "\n",
        "# Dentro do chapéu há 10 bolas de cada cor, assim, constrói-se um vetor \"chapéu\" que contém cada elemento do vetor bolas_disponiveis repetido dez vezes\n",
        "chapeu = np.repeat(bolas_disponiveis, 10)\n",
        "\n",
        "# Até este momento, o vetor chapeu apresenta os valores de bolas_disponiveis de forma sequencial [1 ... 1 2 ... 2 3 ... 3 4 ... 4]\n",
        "\n",
        "# Aqui, embaralham-se as bolas no chapéu\n",
        "np.random.shuffle(chapeu)\n",
        "chapeu_inicial = chapeu\n",
        "#print(len(chapeu_inicial))\n",
        "# Considerando reposição, o pensamento é o seguinte:\n",
        "\n",
        "count = 0 # Contador referente à quantidade de vezes que o evento desejado acontece\n",
        "for i in range(qtd_de_experimentos): # Simulações de Monte Carlo. Serão feitas qtd_de_experimentos repetições\n",
        "    count2 = 0 # Para cada repetição, zera-se o contador de bolas azuis\n",
        "    count4 = 0 # Para cada repetição, zera-se o contador de bolas azuis\n",
        "    chapeu = chapeu_inicial\n",
        "\n",
        "    for j in range(10): # Considerando dez bolas retiradas do chapéu. Para cada uma das dez bolas retiradas:\n",
        "        if repo:\n",
        "          pos = np.random.randint(0, total_de_bolas) # Gera-se uma posição aleatória dentro do chapéu. Ou seja, uma bola, dentre as 40 possíveis será retirada aleatoriamente\n",
        "          if (chapeu[pos]) == 2: # Se a bola retirada for azul:\n",
        "              count2 += 1 # Incrementa-se o contador de bolas azuis\n",
        "          if (chapeu[pos]) == 4: # Se a bola retirada for roxa:\n",
        "              count4 += 1 # Incrementa-se o contador de bolas roxas\n",
        "        else:\n",
        "          pos = np.random.randint(0, len(chapeu)) # Gera-se uma posição aleatória dentro do chapéu. Ou seja, uma bola, dentre as 40 possíveis será retirada aleatoriamente\n",
        "          if (chapeu[pos]) == 2: # Se a bola retirada for azul:\n",
        "              count2 += 1 # Incrementa-se o contador de bolas azuis\n",
        "          if (chapeu[pos]) == 4: # Se a bola retirada for roxa:\n",
        "              count4 += 1 # Incrementa-se o contador de bolas roxas\n",
        "          chapeu = np.delete(chapeu,pos)\n",
        "    #print(len(chapeu))\n",
        "    if count2 == 2 and count4 == 2: # Para cada experimento (que se retira dez bolas), se forem retiradas duas azuis e duas roxas\n",
        "        count += 1 # Incrementa-se o contador desejado\n",
        "\n",
        "# A probabilidade de se acontecer o evento desejado dentre as diversas repetições do experimento é a razão entre as respectivas grandezas\n",
        "prob = count / qtd_de_experimentos\n",
        "\n",
        "if repo == True:\n",
        "  print(\"Considerando reposição, a probabilidade de se retirar duas bolas azuis e duas bolas roxas, aleatoriamente, em um chapéu que contém 40 bolas é igual a: \",prob)\n",
        "else:\n",
        "  print(\"Quando não há reposição, a probabilidade de se retirar duas bolas azuis e duas bolas roxas, aleatoriamente, em um chapéu que contém 40 bolas é igual a: \",prob)\n"
      ],
      "metadata": {
        "colab": {
          "base_uri": "https://localhost:8080/"
        },
        "id": "SvU-ePGRWB4D",
        "outputId": "bf1489b2-cbb9-4a5b-9d93-36ae4c98bd30"
      },
      "execution_count": 15,
      "outputs": [
        {
          "output_type": "stream",
          "name": "stdout",
          "text": [
            "Considerando reposição, a probabilidade de se retirar duas bolas azuis e duas bolas roxas, aleatoriamente, em um chapéu que contém 40 bolas é igual a:  0.07724\n"
          ]
        }
      ]
    }
  ]
}
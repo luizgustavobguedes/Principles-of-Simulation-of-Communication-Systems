{
  "nbformat": 4,
  "nbformat_minor": 0,
  "metadata": {
    "colab": {
      "provenance": []
    },
    "kernelspec": {
      "name": "python3",
      "display_name": "Python 3"
    },
    "language_info": {
      "name": "python"
    }
  },
  "cells": [
    {
      "cell_type": "code",
      "execution_count": 1,
      "metadata": {
        "colab": {
          "base_uri": "https://localhost:8080/"
        },
        "id": "NLnl7mHfn9ub",
        "outputId": "7e1f3943-dd0c-4915-a3c4-0e222684d284"
      },
      "outputs": [
        {
          "output_type": "stream",
          "name": "stdout",
          "text": [
            "Requirement already satisfied: numpy in /usr/local/lib/python3.10/dist-packages (1.25.2)\n",
            "Requirement already satisfied: matplotlib in /usr/local/lib/python3.10/dist-packages (3.7.1)\n",
            "Requirement already satisfied: contourpy>=1.0.1 in /usr/local/lib/python3.10/dist-packages (from matplotlib) (1.2.1)\n",
            "Requirement already satisfied: cycler>=0.10 in /usr/local/lib/python3.10/dist-packages (from matplotlib) (0.12.1)\n",
            "Requirement already satisfied: fonttools>=4.22.0 in /usr/local/lib/python3.10/dist-packages (from matplotlib) (4.50.0)\n",
            "Requirement already satisfied: kiwisolver>=1.0.1 in /usr/local/lib/python3.10/dist-packages (from matplotlib) (1.4.5)\n",
            "Requirement already satisfied: numpy>=1.20 in /usr/local/lib/python3.10/dist-packages (from matplotlib) (1.25.2)\n",
            "Requirement already satisfied: packaging>=20.0 in /usr/local/lib/python3.10/dist-packages (from matplotlib) (24.0)\n",
            "Requirement already satisfied: pillow>=6.2.0 in /usr/local/lib/python3.10/dist-packages (from matplotlib) (9.4.0)\n",
            "Requirement already satisfied: pyparsing>=2.3.1 in /usr/local/lib/python3.10/dist-packages (from matplotlib) (3.1.2)\n",
            "Requirement already satisfied: python-dateutil>=2.7 in /usr/local/lib/python3.10/dist-packages (from matplotlib) (2.8.2)\n",
            "Requirement already satisfied: six>=1.5 in /usr/local/lib/python3.10/dist-packages (from python-dateutil>=2.7->matplotlib) (1.16.0)\n"
          ]
        }
      ],
      "source": [
        "!pip install numpy\n",
        "!pip install matplotlib"
      ]
    },
    {
      "cell_type": "code",
      "source": [
        "import numpy as np\n",
        "import matplotlib as plt"
      ],
      "metadata": {
        "id": "5v_wSXQHoFjI"
      },
      "execution_count": 2,
      "outputs": []
    },
    {
      "cell_type": "code",
      "source": [
        "# Total de dados que podem ser lançados a cada partida\n",
        "total_de_dados = 4\n",
        "\n",
        "# Quantidade de partidas para avaliação da probabilidade\n",
        "total_de_experimentos = 1000000\n",
        "\n",
        "# Custo para se jogar uma partida\n",
        "custo = 1\n",
        "# Valor recebido a cada final de partida caso o requisito seja atendido\n",
        "recebido = 10\n",
        "\n",
        "# Um dado contém seis faces valendo de um a seis\n",
        "dado = np.array([1,2,3,4,5,6])\n",
        "\n",
        "# Variável para auxiliar na contagem para se verificar em quantas partidas o valor presente na carteira do jogador era menor que o valor que tinha inicialmente\n",
        "count = 0\n",
        "\n",
        "# Suposto valor inicial na carteira\n",
        "carteira_inicial = 100\n",
        "\n",
        "# O que se tem na carteira, neste ponto, é, de fato, o que se tem inicialmente apenas\n",
        "carteira = carteira_inicial\n",
        "\n",
        "# Faremos um número de partidas igual a total_de_experimentos\n",
        "for experimento in range(total_de_experimentos):\n",
        "  # Antes de cada partida (que corresponde ao lançamento de quatro dados), zera-se a soma dos valores contidos nas faces dos dados\n",
        "  soma = 0\n",
        "  # Laço 'for' que representa cada um dos quatro dados lançados\n",
        "  for i in range(total_de_dados):\n",
        "    face = np.random.randint(0,len(dado)) # Lança-se o dado e gera-se uma face aleatória\n",
        "    soma = soma + dado[face] # Soma-se o valor contido na face com o valor acumulado na soma até então\n",
        "    #print(dado[face])\n",
        "  #print(soma)\n",
        "\n",
        "  if soma < 9: # Após lançar os quatro dados e somar os valores de suas faces, verifica-se se a soma é menor que 9\n",
        "    carteira = carteira - custo + recebido # Se for, recebe-se de volta 'recebido' (r) e perde-se o valor pago (custo). Em outras palavras, a carteira aumenta de valor com 'recebido' e perde o valor do custo.\n",
        "  else: # Se não, ou seja, se a soma for maior ou igual a 9\n",
        "    carteira = carteira - custo # Não se ganha nada em troca e ainda se perde o valor pago (custo)\n",
        "\n",
        "  if carteira < carteira_inicial: # Após isso, verifica se o valor presente na carteira agora é menor que o que tinha antes das partidas. Caso seja menor, significa que perdeu-se dinheiro\n",
        "    count = count + 1 # Então incrementa-se uma unidade na variável count\n",
        "\n",
        "prob = count/total_de_experimentos # Probabilidade de se perder dinheiro\n",
        "\n",
        "print(\"A probabilidade de se perder dinheiro a longo prazo é de\",prob*100,\"%\")\n",
        "#print(\"Inicialmente, tinha-se R$\",carteira_inicial,\". Após as partidas, restou R$\", carteira, \".\")"
      ],
      "metadata": {
        "colab": {
          "base_uri": "https://localhost:8080/"
        },
        "id": "WEDp-F9moJ1F",
        "outputId": "52b1ec2a-20c0-4d1b-9d00-cf3814b89b97"
      },
      "execution_count": 46,
      "outputs": [
        {
          "output_type": "stream",
          "name": "stdout",
          "text": [
            "A probabilidade de se perder dinheiro a longo prazo é de 99.9997 %\n"
          ]
        }
      ]
    }
  ]
}
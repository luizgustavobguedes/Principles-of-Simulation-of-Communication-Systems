{
  "nbformat": 4,
  "nbformat_minor": 0,
  "metadata": {
    "colab": {
      "provenance": []
    },
    "kernelspec": {
      "name": "python3",
      "display_name": "Python 3"
    },
    "language_info": {
      "name": "python"
    }
  },
  "cells": [
    {
      "cell_type": "code",
      "execution_count": null,
      "metadata": {
        "colab": {
          "base_uri": "https://localhost:8080/"
        },
        "id": "ICeOXYhxZldy",
        "outputId": "071c07f6-f2a5-41ce-9fd8-ed8c847dcd01"
      },
      "outputs": [
        {
          "output_type": "stream",
          "name": "stdout",
          "text": [
            "Requirement already satisfied: numpy in /usr/local/lib/python3.10/dist-packages (1.25.2)\n",
            "Requirement already satisfied: matplotlib in /usr/local/lib/python3.10/dist-packages (3.7.1)\n",
            "Requirement already satisfied: contourpy>=1.0.1 in /usr/local/lib/python3.10/dist-packages (from matplotlib) (1.2.0)\n",
            "Requirement already satisfied: cycler>=0.10 in /usr/local/lib/python3.10/dist-packages (from matplotlib) (0.12.1)\n",
            "Requirement already satisfied: fonttools>=4.22.0 in /usr/local/lib/python3.10/dist-packages (from matplotlib) (4.50.0)\n",
            "Requirement already satisfied: kiwisolver>=1.0.1 in /usr/local/lib/python3.10/dist-packages (from matplotlib) (1.4.5)\n",
            "Requirement already satisfied: numpy>=1.20 in /usr/local/lib/python3.10/dist-packages (from matplotlib) (1.25.2)\n",
            "Requirement already satisfied: packaging>=20.0 in /usr/local/lib/python3.10/dist-packages (from matplotlib) (24.0)\n",
            "Requirement already satisfied: pillow>=6.2.0 in /usr/local/lib/python3.10/dist-packages (from matplotlib) (9.4.0)\n",
            "Requirement already satisfied: pyparsing>=2.3.1 in /usr/local/lib/python3.10/dist-packages (from matplotlib) (3.1.2)\n",
            "Requirement already satisfied: python-dateutil>=2.7 in /usr/local/lib/python3.10/dist-packages (from matplotlib) (2.8.2)\n",
            "Requirement already satisfied: six>=1.5 in /usr/local/lib/python3.10/dist-packages (from python-dateutil>=2.7->matplotlib) (1.16.0)\n"
          ]
        }
      ],
      "source": [
        "!pip install numpy\n",
        "!pip install matplotlib"
      ]
    },
    {
      "cell_type": "code",
      "source": [
        "import numpy as np\n",
        "import matplotlib as plt"
      ],
      "metadata": {
        "id": "PjQgT0blZvOm"
      },
      "execution_count": 1,
      "outputs": []
    },
    {
      "cell_type": "code",
      "source": [
        "# Quantidade total de dados\n",
        "total_de_dados = 5\n",
        "\n",
        "# Quantidade total de experimentos\n",
        "total_de_experimentos = 100000\n",
        "\n",
        "# Um dado contém seis valores possíveis, de um a seis\n",
        "dado = np.array([1,2,3,4,5,6])\n",
        "\n",
        "# Variável auxiliar para contagem de experimentos em que se aparecem, pelo menos, uma face seis\n",
        "count_t = 0\n",
        "\n",
        "# Para cada experimento de lançamento de cinco dados\n",
        "for k in range(total_de_experimentos):\n",
        "  count = 0 # Zera-se a variável referente à contagem de vezes em que se aparece face 6 em um lançamento\n",
        "  for i in range(total_de_dados): # Laço que indica cada lançamento de um dado até chegar a cinco dados\n",
        "    face = np.random.randint(0,len(dado)-1) # Para cada lançamento, aparece-se uma face aleatória. Esta linha retorna uma posição aleatória, de 0 a 5, do vetor \"dado\"\n",
        "    #print(dado[face]+1)\n",
        "    if (dado[face]+1) == 6: # Se a face for 6\n",
        "      count = count + 1 # Incrementa de uma unidade a variável associada aos cinco lançamentos de uma vez\n",
        "  if count >= 1: # Se nos cinco lançamentos houver aparecido, pelo menos, uma face seis\n",
        "    count_t = count_t+1 # Incrementa-se a variável do experimento em questão\n",
        "\n",
        "# A probabilidade se dá pela razão entre a quantidade de experimentos em que o evento acontece e o total de experimentos\n",
        "prob = count_t/total_de_experimentos\n",
        "print(\"A probabilidade de se ter, pelo menos, uma face com número seis em cinco dados lançados é igual a: \", prob)"
      ],
      "metadata": {
        "colab": {
          "base_uri": "https://localhost:8080/"
        },
        "id": "jNbYrMi7Zy_1",
        "outputId": "899a8522-9e35-4f4d-822c-625e1766ecb4"
      },
      "execution_count": 35,
      "outputs": [
        {
          "output_type": "stream",
          "name": "stdout",
          "text": [
            "A probabilidade de se ter, pelo menos, uma face com número seis em cinco dados lançados é igual a:  0.6728\n"
          ]
        }
      ]
    }
  ]
}
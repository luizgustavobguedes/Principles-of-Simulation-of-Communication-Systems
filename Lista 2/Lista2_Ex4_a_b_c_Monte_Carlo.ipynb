{
  "nbformat": 4,
  "nbformat_minor": 0,
  "metadata": {
    "colab": {
      "provenance": []
    },
    "kernelspec": {
      "name": "python3",
      "display_name": "Python 3"
    },
    "language_info": {
      "name": "python"
    }
  },
  "cells": [
    {
      "cell_type": "code",
      "execution_count": null,
      "metadata": {
        "colab": {
          "base_uri": "https://localhost:8080/"
        },
        "id": "Qx8BUAG7zy9r",
        "outputId": "2755a3b3-351a-48db-ac19-6c05f789f1b4"
      },
      "outputs": [
        {
          "output_type": "stream",
          "name": "stdout",
          "text": [
            "Requirement already satisfied: numpy in /usr/local/lib/python3.10/dist-packages (1.25.2)\n",
            "Requirement already satisfied: matplotlib in /usr/local/lib/python3.10/dist-packages (3.7.1)\n",
            "Requirement already satisfied: contourpy>=1.0.1 in /usr/local/lib/python3.10/dist-packages (from matplotlib) (1.2.1)\n",
            "Requirement already satisfied: cycler>=0.10 in /usr/local/lib/python3.10/dist-packages (from matplotlib) (0.12.1)\n",
            "Requirement already satisfied: fonttools>=4.22.0 in /usr/local/lib/python3.10/dist-packages (from matplotlib) (4.50.0)\n",
            "Requirement already satisfied: kiwisolver>=1.0.1 in /usr/local/lib/python3.10/dist-packages (from matplotlib) (1.4.5)\n",
            "Requirement already satisfied: numpy>=1.20 in /usr/local/lib/python3.10/dist-packages (from matplotlib) (1.25.2)\n",
            "Requirement already satisfied: packaging>=20.0 in /usr/local/lib/python3.10/dist-packages (from matplotlib) (24.0)\n",
            "Requirement already satisfied: pillow>=6.2.0 in /usr/local/lib/python3.10/dist-packages (from matplotlib) (9.4.0)\n",
            "Requirement already satisfied: pyparsing>=2.3.1 in /usr/local/lib/python3.10/dist-packages (from matplotlib) (3.1.2)\n",
            "Requirement already satisfied: python-dateutil>=2.7 in /usr/local/lib/python3.10/dist-packages (from matplotlib) (2.8.2)\n",
            "Requirement already satisfied: six>=1.5 in /usr/local/lib/python3.10/dist-packages (from python-dateutil>=2.7->matplotlib) (1.16.0)\n"
          ]
        }
      ],
      "source": [
        "!pip install numpy\n",
        "!pip install matplotlib"
      ]
    },
    {
      "cell_type": "code",
      "source": [
        "import numpy as np\n",
        "import matplotlib.pyplot as plt"
      ],
      "metadata": {
        "id": "nkms810Oz9-6"
      },
      "execution_count": null,
      "outputs": []
    },
    {
      "cell_type": "code",
      "source": [
        "# Quantidade total de amostras a serem geradas\n",
        "n = 100000\n",
        "\n",
        "# Geração de um vetor de variáveis aleatórias seguindo distribuição uniforme\n",
        "y = np.random.uniform(0,1,n)\n",
        "\n",
        "# # Para a letra a) # #\n",
        "# Definição dos parâmetros a e b\n",
        "a1 = 0\n",
        "b1 = 1\n",
        "\n",
        "# Geração dos valores de x pela substituição de variáveis\n",
        "x = y*(b1 - a1) + a1\n",
        "\n",
        "# Função que se deseja integrar\n",
        "g1 = pow((1-pow(x,2)),3/2)\n",
        "\n",
        "# # Para a letra b) # #\n",
        "# Definição dos parâmetros a e b\n",
        "a2 = -2\n",
        "b2 = 2\n",
        "\n",
        "# Geração dos valores de x pela substituição de variáveis\n",
        "x = y*(b2 - a2) + a2\n",
        "\n",
        "# Função que se deseja integrar\n",
        "g2 = np.exp(x + pow(x,2))\n",
        "\n",
        "# Geração dos valores de x pela substituição de variáveis\n",
        "x = 1/y - 1\n",
        "\n",
        "# Função que se deseja integrar\n",
        "g3 = x*pow((1+pow(x,2)),-2)\n",
        "\n",
        "# Resultados das integrais\n",
        "# a)\n",
        "integral1 = (b1-a1)*sum(g1)/n\n",
        "print(\"A integral da letra a) é igual a\",integral1)\n",
        "\n",
        "# b)\n",
        "integral2 = (b2-a2)*sum(g2)/n\n",
        "print(\"A integral da letra b) é igual a\",integral2)\n",
        "\n",
        "# c)\n",
        "integral3 = sum(g3/(y**2))/(n)\n",
        "print(\"A integral da letra c) é igual a\",integral3)"
      ],
      "metadata": {
        "colab": {
          "base_uri": "https://localhost:8080/"
        },
        "id": "uxyCfDtQ0LXe",
        "outputId": "059a1a7e-2174-40bd-ab26-705295c00baf"
      },
      "execution_count": null,
      "outputs": [
        {
          "output_type": "stream",
          "name": "stdout",
          "text": [
            "A integral da letra a) é igual a 0.5897840120683254\n",
            "A integral da letra b) é igual a 93.20009622729384\n",
            "A integral da letra c) é igual a 0.5004504313424423\n"
          ]
        }
      ]
    },
    {
      "cell_type": "code",
      "source": [],
      "metadata": {
        "id": "6m-vztVvv3K2"
      },
      "execution_count": null,
      "outputs": []
    }
  ]
}
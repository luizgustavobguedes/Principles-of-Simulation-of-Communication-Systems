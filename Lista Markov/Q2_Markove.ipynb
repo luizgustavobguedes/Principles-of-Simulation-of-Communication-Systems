{
  "nbformat": 4,
  "nbformat_minor": 0,
  "metadata": {
    "colab": {
      "provenance": []
    },
    "kernelspec": {
      "name": "python3",
      "display_name": "Python 3"
    },
    "language_info": {
      "name": "python"
    }
  },
  "cells": [
    {
      "cell_type": "code",
      "execution_count": 1,
      "metadata": {
        "colab": {
          "base_uri": "https://localhost:8080/"
        },
        "id": "T-dW2X3nXn1_",
        "outputId": "c5f90f38-5def-4dbd-e0c7-da131acc09e7"
      },
      "outputs": [
        {
          "output_type": "stream",
          "name": "stdout",
          "text": [
            "Probability of being in state 3 at t=3 from state 1: 0.16199999999999998\n",
            "Mean number of steps to absorption from state 1: 3.3333333333333335\n",
            "Mean number of steps to absorption from state 2: 3.3333333333333335\n",
            "Absorption probabilities from state 1 to states 0 and 3: [0.66666667 0.33333333]\n",
            "Absorption probabilities from state 2 to states 0 and 3: [0.33333333 0.66666667]\n"
          ]
        }
      ],
      "source": [
        "import numpy as np\n",
        "\n",
        "# Transition matrix\n",
        "P = np.array([\n",
        "    [1, 0, 0, 0],\n",
        "    [0.3, 0.4, 0.3, 0],\n",
        "    [0, 0.3, 0.4, 0.3],\n",
        "    [0, 0, 0, 1]\n",
        "])\n",
        "\n",
        "# Compute P^3 for the third minute scenario\n",
        "P3 = np.linalg.matrix_power(P, 3)\n",
        "\n",
        "# Print the probability of being in state 3 at t=3 starting from state 1\n",
        "print(\"Probability of being in state 3 at t=3 from state 1:\", P3[1, 3])\n",
        "\n",
        "# For mean number of steps and absorption probabilities\n",
        "Q = P[1:3, 1:3]\n",
        "I = np.eye(Q.shape[0])\n",
        "N = np.linalg.inv(I - Q)  # Fundamental matrix\n",
        "\n",
        "# Absorption matrix R\n",
        "R = P[1:3, [0, 3]]\n",
        "\n",
        "# NR gives long-term absorption probabilities from states 1 and 2\n",
        "NR = np.dot(N, R)\n",
        "\n",
        "print(\"Mean number of steps to absorption from state 1:\", N[0].sum())\n",
        "print(\"Mean number of steps to absorption from state 2:\", N[1].sum())\n",
        "\n",
        "print(\"Absorption probabilities from state 1 to states 0 and 3:\", NR[0])\n",
        "print(\"Absorption probabilities from state 2 to states 0 and 3:\", NR[1])"
      ]
    }
  ]
}
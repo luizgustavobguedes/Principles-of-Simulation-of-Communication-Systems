{
  "nbformat": 4,
  "nbformat_minor": 0,
  "metadata": {
    "colab": {
      "provenance": []
    },
    "kernelspec": {
      "name": "python3",
      "display_name": "Python 3"
    },
    "language_info": {
      "name": "python"
    }
  },
  "cells": [
    {
      "cell_type": "code",
      "execution_count": 2,
      "metadata": {
        "colab": {
          "base_uri": "https://localhost:8080/"
        },
        "id": "ldPPFFu1NWQE",
        "outputId": "e4e4c449-f78f-4c83-e65e-eca8ebf70f9a"
      },
      "outputs": [
        {
          "output_type": "stream",
          "name": "stdout",
          "text": [
            "Theoretical Average Time in the System (W): 0.0167 seconds\n",
            "Simulated Average Time in the System (W): 0.0169 seconds\n",
            "Theoretical Average Waiting Time in the Queue (Wq): 0.0067 seconds\n",
            "Simulated Average Waiting Time in the Queue (Wq): 0.0069 seconds\n"
          ]
        }
      ],
      "source": [
        "import numpy as np\n",
        "import matplotlib.pyplot as plt\n",
        "\n",
        "# Parameters\n",
        "lambda_ = 40  # Arrival rate (packets per second)\n",
        "mu = 100  # Service rate (packets per second)\n",
        "num_iterations = int(1e5)  # Number of iterations for the simulation\n",
        "\n",
        "# Arrays to store results\n",
        "waiting_times = []  # List to store waiting times in the queue\n",
        "system_times = []  # List to store times in the system\n",
        "\n",
        "# Simulation\n",
        "t = 0  # Current time\n",
        "lq = 0  # Queue length\n",
        "ls = 0  # Server busy flag (0 if idle, 1 if busy)\n",
        "num_arrivals = 0  # Total number of arrivals\n",
        "num_departures = 0  # Total number of departures\n",
        "arrival_times = []  # Arrival times\n",
        "departure_times = []  # Departure times\n",
        "\n",
        "# Generate initial arrival time\n",
        "next_arrival = np.random.exponential(1 / lambda_)\n",
        "next_departure = float('inf')  # No departure initially\n",
        "\n",
        "while num_departures < num_iterations:\n",
        "    if next_arrival < next_departure:\n",
        "        t = next_arrival\n",
        "        num_arrivals += 1\n",
        "        arrival_times.append(t)\n",
        "        if ls == 1:\n",
        "            if lq == 0:\n",
        "                next_departure = t + np.random.exponential(1 / mu)\n",
        "            lq += 1\n",
        "        else:\n",
        "            ls = 1\n",
        "            next_departure = t + np.random.exponential(1 / mu)\n",
        "        next_arrival = t + np.random.exponential(1 / lambda_)\n",
        "    else:\n",
        "        t = next_departure\n",
        "        num_departures += 1\n",
        "        departure_times.append(t)\n",
        "        if lq > 0:\n",
        "            lq -= 1\n",
        "            next_departure = t + np.random.exponential(1 / mu)\n",
        "        else:\n",
        "            ls = 0\n",
        "            next_departure = float('inf')\n",
        "        system_times.append(t - arrival_times[num_departures - 1])\n",
        "        waiting_times.append(t - arrival_times[num_departures - 1] - 1 / mu)\n",
        "\n",
        "# Simulation results\n",
        "W_sim = np.mean(system_times)\n",
        "Wq_sim = np.mean(waiting_times)\n",
        "\n",
        "# Theoretical results\n",
        "W_theory = 0.0167  # Average time in the system (seconds)\n",
        "Wq_theory = 0.0067  # Average waiting time in the queue (seconds)\n",
        "\n",
        "# Compare simulation and theoretical results\n",
        "print(f\"Theoretical Average Time in the System (W): {W_theory} seconds\")\n",
        "print(f\"Simulated Average Time in the System (W): {W_sim:.4f} seconds\")\n",
        "print(f\"Theoretical Average Waiting Time in the Queue (Wq): {Wq_theory} seconds\")\n",
        "print(f\"Simulated Average Waiting Time in the Queue (Wq): {Wq_sim:.4f} seconds\")\n",
        "\n",
        "\n"
      ]
    }
  ]
}
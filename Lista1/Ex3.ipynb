{
  "nbformat": 4,
  "nbformat_minor": 0,
  "metadata": {
    "colab": {
      "provenance": []
    },
    "kernelspec": {
      "name": "python3",
      "display_name": "Python 3"
    },
    "language_info": {
      "name": "python"
    }
  },
  "cells": [
    {
      "cell_type": "code",
      "execution_count": null,
      "metadata": {
        "colab": {
          "base_uri": "https://localhost:8080/"
        },
        "id": "PaMavxdcViIl",
        "outputId": "35f93564-a4cf-426a-d980-ba990c1a673e"
      },
      "outputs": [
        {
          "output_type": "stream",
          "name": "stdout",
          "text": [
            "Requirement already satisfied: numpy in /usr/local/lib/python3.10/dist-packages (1.25.2)\n",
            "Requirement already satisfied: matplotlib in /usr/local/lib/python3.10/dist-packages (3.7.1)\n",
            "Requirement already satisfied: contourpy>=1.0.1 in /usr/local/lib/python3.10/dist-packages (from matplotlib) (1.2.0)\n",
            "Requirement already satisfied: cycler>=0.10 in /usr/local/lib/python3.10/dist-packages (from matplotlib) (0.12.1)\n",
            "Requirement already satisfied: fonttools>=4.22.0 in /usr/local/lib/python3.10/dist-packages (from matplotlib) (4.49.0)\n",
            "Requirement already satisfied: kiwisolver>=1.0.1 in /usr/local/lib/python3.10/dist-packages (from matplotlib) (1.4.5)\n",
            "Requirement already satisfied: numpy>=1.20 in /usr/local/lib/python3.10/dist-packages (from matplotlib) (1.25.2)\n",
            "Requirement already satisfied: packaging>=20.0 in /usr/local/lib/python3.10/dist-packages (from matplotlib) (24.0)\n",
            "Requirement already satisfied: pillow>=6.2.0 in /usr/local/lib/python3.10/dist-packages (from matplotlib) (9.4.0)\n",
            "Requirement already satisfied: pyparsing>=2.3.1 in /usr/local/lib/python3.10/dist-packages (from matplotlib) (3.1.2)\n",
            "Requirement already satisfied: python-dateutil>=2.7 in /usr/local/lib/python3.10/dist-packages (from matplotlib) (2.8.2)\n",
            "Requirement already satisfied: six>=1.5 in /usr/local/lib/python3.10/dist-packages (from python-dateutil>=2.7->matplotlib) (1.16.0)\n"
          ]
        }
      ],
      "source": [
        "!pip install numpy\n",
        "!pip install matplotlib"
      ]
    },
    {
      "cell_type": "code",
      "source": [
        "import numpy as np\n",
        "import matplotlib.pyplot as plt"
      ],
      "metadata": {
        "id": "IbOgsVwBVzGc"
      },
      "execution_count": 2,
      "outputs": []
    },
    {
      "cell_type": "code",
      "source": [
        "p = 0.15 # Probabilidade de acerto\n",
        "n = 8 # Número de tentativas\n",
        "N = 100000 # Número de amostras\n",
        "c = p/(1-p)\n",
        "av = np.array([])\n",
        "count_a = 0\n",
        "count_b = 0\n",
        "x = np.random.uniform(0,1,N)\n",
        "\n",
        "for ix in x:\n",
        "    i = 0\n",
        "    pr = pow((1 - p),n)\n",
        "    F = pr\n",
        "    while ix>=F:\n",
        "        pr = (c * (n - i) / (i + 1))* pr;\n",
        "        F = F + pr;\n",
        "        i = i + 1;\n",
        "    a1=i\n",
        "    av=np.append(av,a1)\n",
        "\n",
        "for k in av:\n",
        "  if k <= 2:\n",
        "    count_a = count_a + 1\n",
        "  if k >= 6:\n",
        "    count_b = count_b + 1\n",
        "\n",
        "p_a = count_a/N\n",
        "p_b = count_b/N\n",
        "\n",
        "print(\"Vetor de amostras gerado:\")\n",
        "print(av)\n",
        "print(\"Probabilidade de não mais que dois sejam rejeitados:\")\n",
        "print(p_a)\n",
        "print(\"Probabilidade de, pelo menos, seis rejeitados:\")\n",
        "print(p_b)\n",
        "\n",
        "plt.hist(av, bins = 100,density = True, color = \"green\", label = \"Histograma normalizado da distribuição Binomial\")\n",
        "plt.xlabel(\"Amostras\")\n",
        "plt.ylabel(\"Histograma\")\n",
        "plt.legend()\n",
        "plt.show()"
      ],
      "metadata": {
        "colab": {
          "base_uri": "https://localhost:8080/",
          "height": 553
        },
        "id": "DYiYUZRiWEUE",
        "outputId": "77af836b-4485-4264-d3aa-7a7059899381"
      },
      "execution_count": 5,
      "outputs": [
        {
          "output_type": "stream",
          "name": "stdout",
          "text": [
            "Vetor de amostras gerado:\n",
            "[3. 2. 2. ... 0. 3. 3.]\n",
            "Probabilidade de não mais que dois sejam rejeitados:\n",
            "0.89688\n",
            "Probabilidade de, pelo menos, seis rejeitados:\n",
            "0.00021\n"
          ]
        },
        {
          "output_type": "display_data",
          "data": {
            "text/plain": [
              "<Figure size 640x480 with 1 Axes>"
            ],
            "image/png": "[encoded data removed]"
          },
          "metadata": {}
        }
      ]
    }
  ]
}
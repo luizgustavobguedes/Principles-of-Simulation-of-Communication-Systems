{
  "nbformat": 4,
  "nbformat_minor": 0,
  "metadata": {
    "colab": {
      "provenance": []
    },
    "kernelspec": {
      "name": "python3",
      "display_name": "Python 3"
    },
    "language_info": {
      "name": "python"
    }
  },
  "cells": [
    {
      "cell_type": "code",
      "execution_count": null,
      "metadata": {
        "colab": {
          "base_uri": "https://localhost:8080/"
        },
        "id": "PaMavxdcViIl",
        "outputId": "35f93564-a4cf-426a-d980-ba990c1a673e"
      },
      "outputs": [
        {
          "output_type": "stream",
          "name": "stdout",
          "text": [
            "Requirement already satisfied: numpy in /usr/local/lib/python3.10/dist-packages (1.25.2)\n",
            "Requirement already satisfied: matplotlib in /usr/local/lib/python3.10/dist-packages (3.7.1)\n",
            "Requirement already satisfied: contourpy>=1.0.1 in /usr/local/lib/python3.10/dist-packages (from matplotlib) (1.2.0)\n",
            "Requirement already satisfied: cycler>=0.10 in /usr/local/lib/python3.10/dist-packages (from matplotlib) (0.12.1)\n",
            "Requirement already satisfied: fonttools>=4.22.0 in /usr/local/lib/python3.10/dist-packages (from matplotlib) (4.49.0)\n",
            "Requirement already satisfied: kiwisolver>=1.0.1 in /usr/local/lib/python3.10/dist-packages (from matplotlib) (1.4.5)\n",
            "Requirement already satisfied: numpy>=1.20 in /usr/local/lib/python3.10/dist-packages (from matplotlib) (1.25.2)\n",
            "Requirement already satisfied: packaging>=20.0 in /usr/local/lib/python3.10/dist-packages (from matplotlib) (24.0)\n",
            "Requirement already satisfied: pillow>=6.2.0 in /usr/local/lib/python3.10/dist-packages (from matplotlib) (9.4.0)\n",
            "Requirement already satisfied: pyparsing>=2.3.1 in /usr/local/lib/python3.10/dist-packages (from matplotlib) (3.1.2)\n",
            "Requirement already satisfied: python-dateutil>=2.7 in /usr/local/lib/python3.10/dist-packages (from matplotlib) (2.8.2)\n",
            "Requirement already satisfied: six>=1.5 in /usr/local/lib/python3.10/dist-packages (from python-dateutil>=2.7->matplotlib) (1.16.0)\n"
          ]
        }
      ],
      "source": [
        "!pip install numpy\n",
        "!pip install matplotlib"
      ]
    },
    {
      "cell_type": "code",
      "source": [
        "import numpy as np\n",
        "import matplotlib.pyplot as plt"
      ],
      "metadata": {
        "id": "IbOgsVwBVzGc"
      },
      "execution_count": 1,
      "outputs": []
    },
    {
      "cell_type": "code",
      "source": [
        "p = 0.15 # Probabilidade de acerto\n",
        "n = 8 # Número de tentativas\n",
        "N = 100000 # Número de amostras\n",
        "c = p/(1-p)\n",
        "av = np.array([])\n",
        "count_a = 0\n",
        "count_b = 0\n",
        "x = np.random.uniform(0,1,N)\n",
        "\n",
        "for ix in x: # Para cada valor de x, correspondente a um valor de uma distribuição uniforme\n",
        "    i = 0 # Inicializa, para cada valor de x, a variável i\n",
        "    pr = pow((1 - p),n) # Probabilidade inicial da distribuição Binomial\n",
        "    F = pr # A probabilidade acumulada, portanto, é a probabilidade inicial neste ponto\n",
        "    while ix>=F: # Enquanto a probabilidade de determinada posição do vetor x for maior ou igual à acumulada\n",
        "        pr = (c * (n - i) / (i + 1))* pr; # Computa-se a probabilidade do elemento seguinte\n",
        "        F = F + pr; # Soma-se (acumula-se) a probabilidade desse elemento seguinte à probabilidade inicial\n",
        "        i = i + 1; # A cada vez que se acumula, incrementa-se uma unidade na variável i\n",
        "    a1=i # A partir do momento em que a acumulada ultrapassa o valor de probabilidade do vetor x, salva-se o valor de i em a1...\n",
        "    av=np.append(av,a1) # e o anexa no vetor av\n",
        "\n",
        "# Cálculo das probabilidades por meio do conceito de frequência relativa\n",
        "for k in av:\n",
        "  if k <= 2:\n",
        "    count_a = count_a + 1\n",
        "  if k >= 6:\n",
        "    count_b = count_b + 1\n",
        "\n",
        "p_a = count_a/N\n",
        "p_b = count_b/N\n",
        "\n",
        "print(\"Vetor de amostras gerado:\")\n",
        "print(av)\n",
        "print(\"Probabilidade de não mais que dois sejam rejeitados:\")\n",
        "print(p_a)\n",
        "print(\"Probabilidade de, pelo menos, seis rejeitados:\")\n",
        "print(p_b)\n",
        "\n",
        "plt.hist(av, bins = 100,density = True, color = \"green\", label = \"Histograma normalizado da distribuição Binomial\")\n",
        "plt.xlabel(\"Amostras\")\n",
        "plt.ylabel(\"Histograma\")\n",
        "plt.legend()\n",
        "plt.show()"
      ],
      "metadata": {
        "colab": {
          "base_uri": "https://localhost:8080/",
          "height": 553
        },
        "id": "DYiYUZRiWEUE",
        "outputId": "d0272375-2ed9-4ab9-c682-711b33ab02be"
      },
      "execution_count": 2,
      "outputs": [
        {
          "output_type": "stream",
          "name": "stdout",
          "text": [
            "Vetor de amostras gerado:\n",
            "[1. 3. 2. ... 1. 1. 0.]\n",
            "Probabilidade de não mais que dois sejam rejeitados:\n",
            "0.89266\n",
            "Probabilidade de, pelo menos, seis rejeitados:\n",
            "0.00028\n"
          ]
        },
        {
          "output_type": "display_data",
          "data": {
            "text/plain": [
              "<Figure size 640x480 with 1 Axes>"
            ],
            "image/png": "[encoded data removed]"
          },
          "metadata": {}
        }
      ]
    }
  ]
}
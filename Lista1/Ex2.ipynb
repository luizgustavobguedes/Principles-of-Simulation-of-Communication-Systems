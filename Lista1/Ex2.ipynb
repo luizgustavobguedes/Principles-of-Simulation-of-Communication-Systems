{
  "nbformat": 4,
  "nbformat_minor": 0,
  "metadata": {
    "colab": {
      "provenance": []
    },
    "kernelspec": {
      "name": "python3",
      "display_name": "Python 3"
    },
    "language_info": {
      "name": "python"
    }
  },
  "cells": [
    {
      "cell_type": "code",
      "execution_count": 1,
      "metadata": {
        "colab": {
          "base_uri": "https://localhost:8080/"
        },
        "id": "agYKT54u-hbc",
        "outputId": "336e55fd-b7ea-4da9-d6b9-b9ed65bf57f4"
      },
      "outputs": [
        {
          "output_type": "stream",
          "name": "stdout",
          "text": [
            "Requirement already satisfied: numpy in /usr/local/lib/python3.10/dist-packages (1.25.2)\n",
            "Requirement already satisfied: matplotlib in /usr/local/lib/python3.10/dist-packages (3.7.1)\n",
            "Requirement already satisfied: contourpy>=1.0.1 in /usr/local/lib/python3.10/dist-packages (from matplotlib) (1.2.0)\n",
            "Requirement already satisfied: cycler>=0.10 in /usr/local/lib/python3.10/dist-packages (from matplotlib) (0.12.1)\n",
            "Requirement already satisfied: fonttools>=4.22.0 in /usr/local/lib/python3.10/dist-packages (from matplotlib) (4.49.0)\n",
            "Requirement already satisfied: kiwisolver>=1.0.1 in /usr/local/lib/python3.10/dist-packages (from matplotlib) (1.4.5)\n",
            "Requirement already satisfied: numpy>=1.20 in /usr/local/lib/python3.10/dist-packages (from matplotlib) (1.25.2)\n",
            "Requirement already satisfied: packaging>=20.0 in /usr/local/lib/python3.10/dist-packages (from matplotlib) (24.0)\n",
            "Requirement already satisfied: pillow>=6.2.0 in /usr/local/lib/python3.10/dist-packages (from matplotlib) (9.4.0)\n",
            "Requirement already satisfied: pyparsing>=2.3.1 in /usr/local/lib/python3.10/dist-packages (from matplotlib) (3.1.2)\n",
            "Requirement already satisfied: python-dateutil>=2.7 in /usr/local/lib/python3.10/dist-packages (from matplotlib) (2.8.2)\n",
            "Requirement already satisfied: six>=1.5 in /usr/local/lib/python3.10/dist-packages (from python-dateutil>=2.7->matplotlib) (1.16.0)\n"
          ]
        }
      ],
      "source": [
        "!pip install numpy\n",
        "!pip install matplotlib"
      ]
    },
    {
      "cell_type": "code",
      "source": [
        "import numpy as np\n",
        "import matplotlib as plt"
      ],
      "metadata": {
        "id": "nR-5k4Gm-43L"
      },
      "execution_count": 2,
      "outputs": []
    },
    {
      "cell_type": "code",
      "source": [
        "n = 100000 # Número de amostras geradas\n",
        "lambda_ = 6\n",
        "count_a = 0\n",
        "count_b = 0\n",
        "u = np.random.uniform(0,1,n) # Geração de um vetor com valores aleatórios pertencentes a uma variável aleatória uniforme entre 0 e 1\n",
        "#print(u)\n",
        "a = np.array([])\n",
        "\n",
        "for ix in u: # Varre os elementos de u, de modo que, a cada iteração, ix assume um valor do vetor u\n",
        "  i = 0\n",
        "  p = np.exp(-lambda_)\n",
        "  F = p # Probabilidade inicial\n",
        "  while ix >= F: # Enquanto os valores de u, associados a ix, forem maiores que F, o que está dentro do while é executado\n",
        "    # Para cada valor de u que for maior que a probabilidade acumulada até este ponto\n",
        "    p = (lambda_/(i+1))*p # Calcula-se a probabilidade do demais elementos\n",
        "    F = F + p # Acumula-se a probabilidade\n",
        "    i = i + 1 # Incrementa-se a variável i, que será o valor da variável aleatória da respectiva iteração\n",
        "  a1 = i\n",
        "  a = np.append(a,a1)\n",
        "\n",
        "# Caso o número aleatório seja maior que a probabilidade acumulada, continua o processo de acumulo da probabilidade até que o valor sorteado seja menor que o acumulado. A cada vez que se acumula, incrementa-se uma unidade na variável i que, ao final, será armazenada em a1 e anexada ao vetor que apresentará amostras com a distribuição desejada.\n",
        "\n",
        "# Cálculo da probabilidade de acordo com a condição\n",
        "for k in a:\n",
        "  if k == 0:\n",
        "    count_a = count_a + 1\n",
        "  if k < 8:\n",
        "    count_b = count_b + 1\n",
        "\n",
        "# Cálculo das probabilidades baseado no conceito de frequência relativa\n",
        "p_a = count_a/n\n",
        "p_b = count_b/n\n",
        "\n",
        "# Cálculo da média, variância e desvio padrão\n",
        "mean = np.mean(a)\n",
        "var = np.var(a)\n",
        "std = np.std(a)\n",
        "\n",
        "print(\"Amostras geradas:\")\n",
        "print(a)\n",
        "print(\"Probabilidade de não se receber nenhuma chamada:\")\n",
        "print(p_a)\n",
        "print(\"Probabilidade de se receber menos de oito chamadas:\")\n",
        "print(p_b)\n",
        "print(\"Média do vetor de amostras gerado:\")\n",
        "print(mean)\n",
        "print(\"Variância do vetor de amostras gerado:\")\n",
        "print(var)\n",
        "print(\"Desvio padrão do vetor de amostras gerado:\")\n",
        "print(std)\n"
      ],
      "metadata": {
        "colab": {
          "base_uri": "https://localhost:8080/"
        },
        "id": "KwJn8Q64_DaA",
        "outputId": "fc1682a0-e124-47ea-f025-7cce03cff7cd"
      },
      "execution_count": 3,
      "outputs": [
        {
          "output_type": "stream",
          "name": "stdout",
          "text": [
            "Amostras geradas:\n",
            "[ 2.  9.  4. ...  7. 11. 13.]\n",
            "Probabilidade de não se receber nenhuma chamada:\n",
            "0.00253\n",
            "Probabilidade de se receber menos de oito chamadas:\n",
            "0.74397\n",
            "Média do vetor de amostras gerado:\n",
            "6.00082\n",
            "Variância do vetor de amostras gerado:\n",
            "5.991119327599999\n",
            "Desvio padrão do vetor de amostras gerado:\n",
            "2.447676311851712\n"
          ]
        }
      ]
    }
  ]
}
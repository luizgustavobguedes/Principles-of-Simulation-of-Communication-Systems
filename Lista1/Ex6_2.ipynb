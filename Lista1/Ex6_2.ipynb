{
  "nbformat": 4,
  "nbformat_minor": 0,
  "metadata": {
    "colab": {
      "provenance": []
    },
    "kernelspec": {
      "name": "python3",
      "display_name": "Python 3"
    },
    "language_info": {
      "name": "python"
    }
  },
  "cells": [
    {
      "cell_type": "code",
      "execution_count": null,
      "metadata": {
        "colab": {
          "base_uri": "https://localhost:8080/"
        },
        "id": "l1ZpKU6K-qjK",
        "outputId": "fd2fd010-2d22-41e2-ddb6-e6c5fbf876e0"
      },
      "outputs": [
        {
          "output_type": "stream",
          "name": "stdout",
          "text": [
            "Requirement already satisfied: numpy in /usr/local/lib/python3.10/dist-packages (1.25.2)\n",
            "Requirement already satisfied: matplotlib in /usr/local/lib/python3.10/dist-packages (3.7.1)\n",
            "Requirement already satisfied: contourpy>=1.0.1 in /usr/local/lib/python3.10/dist-packages (from matplotlib) (1.2.0)\n",
            "Requirement already satisfied: cycler>=0.10 in /usr/local/lib/python3.10/dist-packages (from matplotlib) (0.12.1)\n",
            "Requirement already satisfied: fonttools>=4.22.0 in /usr/local/lib/python3.10/dist-packages (from matplotlib) (4.49.0)\n",
            "Requirement already satisfied: kiwisolver>=1.0.1 in /usr/local/lib/python3.10/dist-packages (from matplotlib) (1.4.5)\n",
            "Requirement already satisfied: numpy>=1.20 in /usr/local/lib/python3.10/dist-packages (from matplotlib) (1.25.2)\n",
            "Requirement already satisfied: packaging>=20.0 in /usr/local/lib/python3.10/dist-packages (from matplotlib) (24.0)\n",
            "Requirement already satisfied: pillow>=6.2.0 in /usr/local/lib/python3.10/dist-packages (from matplotlib) (9.4.0)\n",
            "Requirement already satisfied: pyparsing>=2.3.1 in /usr/local/lib/python3.10/dist-packages (from matplotlib) (3.1.2)\n",
            "Requirement already satisfied: python-dateutil>=2.7 in /usr/local/lib/python3.10/dist-packages (from matplotlib) (2.8.2)\n",
            "Requirement already satisfied: six>=1.5 in /usr/local/lib/python3.10/dist-packages (from python-dateutil>=2.7->matplotlib) (1.16.0)\n"
          ]
        }
      ],
      "source": [
        "!pip install numpy\n",
        "!pip install matplotlib"
      ]
    },
    {
      "cell_type": "code",
      "source": [
        "import numpy as np\n",
        "import matplotlib.pyplot as plt"
      ],
      "metadata": {
        "id": "6fj48MOR-wh8"
      },
      "execution_count": 3,
      "outputs": []
    },
    {
      "cell_type": "code",
      "source": [
        "N = 1000000\n",
        "p = 0.4\n",
        "count = 0\n",
        "# U = np.random.uniform(0,1,N)\n",
        "x_gen = np.array([])\n",
        "#x_gen = np.floor(np.log(U)/np.log(1-p)) + 1\n",
        "\n",
        "#print(U)\n",
        "\n",
        "# for ix in U:\n",
        "#     if ix >= p:\n",
        "#         a1=1\n",
        "#         x_gen = np.append(x_gen, a1)\n",
        "#     else:\n",
        "#         a1=0\n",
        "#         x_gen=np.append(x_gen,a1)\n",
        "\n",
        "# count1 = 1\n",
        "# x_gen1 = np.array([])\n",
        "\n",
        "# for ii in x_gen:\n",
        "#   if ii == 0:\n",
        "#     count1 = count1 + 1\n",
        "#   else:\n",
        "#     x_gen1 = np.append(x_gen1,count1)\n",
        "#     count1 = 1\n",
        "\n",
        "# print(x_gen)\n",
        "\n",
        "# print(x_gen1)\n",
        "\n",
        "geometric = 0\n",
        "for n in range(N):\n",
        "  u = np.random.uniform(0,1)\n",
        "  if u >= p:\n",
        "    geometric = geometric + 1\n",
        "  else:\n",
        "    x_gen = np.append(x_gen,geometric)\n",
        "    geometric = 0\n",
        "\n",
        "for k in x_gen:\n",
        "  if k == 5:\n",
        "    count = count + 1\n",
        "\n",
        "print(x_gen)\n",
        "\n",
        "x = np.arange(np.min(x_gen),np.max(x_gen),1)\n",
        "f_x = p*(1-p)**(x-1)\n",
        "\n",
        "p_6 = count/len(x_gen)\n",
        "p_6t = p*(1-p)**(6-1)\n",
        "\n",
        "print(\"A probabilidade de, na sexta tentativa, a bola ser a primeira preta é de :\")\n",
        "print(p_6)\n",
        "print(\"A probabilidade teórica correspondente é:\")\n",
        "print(p_6t)\n",
        "\n",
        "plt.plot(x, f_x, color = 'black')\n",
        "plt.hist(x_gen, bins = 50,density = 'True', color = 'blue', label = 'Distribuição geométrica')\n",
        "plt.xlabel(\"Amostras\")\n",
        "plt.ylabel(\"Histograma\")\n",
        "plt.legend()\n",
        "plt.show()"
      ],
      "metadata": {
        "colab": {
          "base_uri": "https://localhost:8080/",
          "height": 536
        },
        "id": "oB0ng3hGASQ2",
        "outputId": "89870860-9cb7-4713-9798-cd01b6e7d759"
      },
      "execution_count": 9,
      "outputs": [
        {
          "output_type": "stream",
          "name": "stdout",
          "text": [
            "[1. 2. 0. ... 0. 0. 1.]\n",
            "A probabilidade de, na sexta tentativa, a bola ser a primeira preta é de :\n",
            "0.031107622947325664\n",
            "A probabilidade teórica correspondente é:\n",
            "0.031103999999999993\n"
          ]
        },
        {
          "output_type": "display_data",
          "data": {
            "text/plain": [
              "<Figure size 640x480 with 1 Axes>"
            ],
            "image/png": "[encoded data removed]"
          },
          "metadata": {}
        }
      ]
    }
  ]
}
{
  "nbformat": 4,
  "nbformat_minor": 0,
  "metadata": {
    "colab": {
      "provenance": []
    },
    "kernelspec": {
      "name": "python3",
      "display_name": "Python 3"
    },
    "language_info": {
      "name": "python"
    }
  },
  "cells": [
    {
      "cell_type": "code",
      "execution_count": null,
      "metadata": {
        "colab": {
          "base_uri": "https://localhost:8080/"
        },
        "id": "l1ZpKU6K-qjK",
        "outputId": "7bbf4a4e-3595-415e-8412-f47a0d039876"
      },
      "outputs": [
        {
          "output_type": "stream",
          "name": "stdout",
          "text": [
            "Requirement already satisfied: numpy in /usr/local/lib/python3.10/dist-packages (1.25.2)\n",
            "Requirement already satisfied: matplotlib in /usr/local/lib/python3.10/dist-packages (3.7.1)\n",
            "Requirement already satisfied: contourpy>=1.0.1 in /usr/local/lib/python3.10/dist-packages (from matplotlib) (1.2.0)\n",
            "Requirement already satisfied: cycler>=0.10 in /usr/local/lib/python3.10/dist-packages (from matplotlib) (0.12.1)\n",
            "Requirement already satisfied: fonttools>=4.22.0 in /usr/local/lib/python3.10/dist-packages (from matplotlib) (4.49.0)\n",
            "Requirement already satisfied: kiwisolver>=1.0.1 in /usr/local/lib/python3.10/dist-packages (from matplotlib) (1.4.5)\n",
            "Requirement already satisfied: numpy>=1.20 in /usr/local/lib/python3.10/dist-packages (from matplotlib) (1.25.2)\n",
            "Requirement already satisfied: packaging>=20.0 in /usr/local/lib/python3.10/dist-packages (from matplotlib) (24.0)\n",
            "Requirement already satisfied: pillow>=6.2.0 in /usr/local/lib/python3.10/dist-packages (from matplotlib) (9.4.0)\n",
            "Requirement already satisfied: pyparsing>=2.3.1 in /usr/local/lib/python3.10/dist-packages (from matplotlib) (3.1.2)\n",
            "Requirement already satisfied: python-dateutil>=2.7 in /usr/local/lib/python3.10/dist-packages (from matplotlib) (2.8.2)\n",
            "Requirement already satisfied: six>=1.5 in /usr/local/lib/python3.10/dist-packages (from python-dateutil>=2.7->matplotlib) (1.16.0)\n"
          ]
        }
      ],
      "source": [
        "!pip install numpy\n",
        "!pip install matplotlib"
      ]
    },
    {
      "cell_type": "code",
      "source": [
        "import numpy as np\n",
        "import matplotlib.pyplot as plt"
      ],
      "metadata": {
        "id": "6fj48MOR-wh8"
      },
      "execution_count": null,
      "outputs": []
    },
    {
      "cell_type": "code",
      "source": [
        "N = 100000\n",
        "p = 0.4\n",
        "count = 0\n",
        "U = np.random.uniform(0,1,N)\n",
        "\n",
        "x_gen = np.floor(np.log(1-U)/np.log(1-p))+1\n",
        "x = np.arange(np.min(x_gen),np.max(x_gen),0.01)\n",
        "f_x = p*(1-p)**(x-1)\n",
        "\n",
        "print(x_gen)\n",
        "\n",
        "for k in x_gen:\n",
        "  if k == 6:\n",
        "    count = count + 1\n",
        "\n",
        "p_6 = count/N\n",
        "p_6t = p*(1-p)**(6-1)\n",
        "\n",
        "print(\"A probabilidade de, na sexta tentativa, a bola ser a primeira preta é de :\")\n",
        "print(p_6)\n",
        "print(\"A probabilidade teórica correspondente é:\")\n",
        "print(p_6t)\n",
        "\n",
        "plt.plot(x, f_x, color = 'black')\n",
        "plt.hist(x_gen, bins = 50, density = 'True', color = 'blue', label = 'Geometric distribution')\n",
        "plt.legend()\n",
        "plt.show()"
      ],
      "metadata": {
        "colab": {
          "base_uri": "https://localhost:8080/",
          "height": 520
        },
        "id": "oB0ng3hGASQ2",
        "outputId": "994690f9-5ef6-4394-f3f8-31175ece76d4"
      },
      "execution_count": null,
      "outputs": [
        {
          "output_type": "stream",
          "name": "stdout",
          "text": [
            "[2. 1. 1. ... 6. 7. 1.]\n",
            "A probabilidade de, na sexta tentativa, a bola ser a primeira preta é de :\n",
            "0.0303\n",
            "A probabilidade teórica correspondente é:\n",
            "0.031103999999999993\n"
          ]
        },
        {
          "output_type": "display_data",
          "data": {
            "text/plain": [
              "<Figure size 640x480 with 1 Axes>"
            ],
            "image/png": "[encoded data removed]"
          },
          "metadata": {}
        }
      ]
    }
  ]
}
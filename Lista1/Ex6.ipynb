{
  "nbformat": 4,
  "nbformat_minor": 0,
  "metadata": {
    "colab": {
      "provenance": []
    },
    "kernelspec": {
      "name": "python3",
      "display_name": "Python 3"
    },
    "language_info": {
      "name": "python"
    }
  },
  "cells": [
    {
      "cell_type": "code",
      "execution_count": null,
      "metadata": {
        "colab": {
          "base_uri": "https://localhost:8080/"
        },
        "id": "l1ZpKU6K-qjK",
        "outputId": "fd2fd010-2d22-41e2-ddb6-e6c5fbf876e0"
      },
      "outputs": [
        {
          "output_type": "stream",
          "name": "stdout",
          "text": [
            "Requirement already satisfied: numpy in /usr/local/lib/python3.10/dist-packages (1.25.2)\n",
            "Requirement already satisfied: matplotlib in /usr/local/lib/python3.10/dist-packages (3.7.1)\n",
            "Requirement already satisfied: contourpy>=1.0.1 in /usr/local/lib/python3.10/dist-packages (from matplotlib) (1.2.0)\n",
            "Requirement already satisfied: cycler>=0.10 in /usr/local/lib/python3.10/dist-packages (from matplotlib) (0.12.1)\n",
            "Requirement already satisfied: fonttools>=4.22.0 in /usr/local/lib/python3.10/dist-packages (from matplotlib) (4.49.0)\n",
            "Requirement already satisfied: kiwisolver>=1.0.1 in /usr/local/lib/python3.10/dist-packages (from matplotlib) (1.4.5)\n",
            "Requirement already satisfied: numpy>=1.20 in /usr/local/lib/python3.10/dist-packages (from matplotlib) (1.25.2)\n",
            "Requirement already satisfied: packaging>=20.0 in /usr/local/lib/python3.10/dist-packages (from matplotlib) (24.0)\n",
            "Requirement already satisfied: pillow>=6.2.0 in /usr/local/lib/python3.10/dist-packages (from matplotlib) (9.4.0)\n",
            "Requirement already satisfied: pyparsing>=2.3.1 in /usr/local/lib/python3.10/dist-packages (from matplotlib) (3.1.2)\n",
            "Requirement already satisfied: python-dateutil>=2.7 in /usr/local/lib/python3.10/dist-packages (from matplotlib) (2.8.2)\n",
            "Requirement already satisfied: six>=1.5 in /usr/local/lib/python3.10/dist-packages (from python-dateutil>=2.7->matplotlib) (1.16.0)\n"
          ]
        }
      ],
      "source": [
        "!pip install numpy\n",
        "!pip install matplotlib"
      ]
    },
    {
      "cell_type": "code",
      "source": [
        "import numpy as np\n",
        "import matplotlib.pyplot as plt"
      ],
      "metadata": {
        "id": "6fj48MOR-wh8"
      },
      "execution_count": 2,
      "outputs": []
    },
    {
      "cell_type": "code",
      "source": [
        "N = 100000 # Quantidade total de amostras a serem geradas\n",
        "p = 0.4 # Probabilidade de sucesso\n",
        "count = 0\n",
        "U = np.random.uniform(0,1,N) # Geração de variáveis aleatórias seguindo distribuição Uniforme\n",
        "x_gen = np.array([])\n",
        "#x_gen = np.floor(np.log(U)/np.log(1-p)) + 1\n",
        "\n",
        "print(\"Vetor com amostras uniformemente distribuídas: \")\n",
        "print(U)\n",
        "\n",
        "#Gerando uma sequência de valores distribuídos conforme Bernoulli\n",
        "for ix in U: # Para cada valor do vetor de variáveis aleatórias seguindo distribuição Uniforme\n",
        "  i = 1 # Inicialização da variável como 1 para indicar a impossibilidade de se iniciar o experimento na tentativa zero\n",
        "  pr = p # A probabilidade de sucesso é a probabilidade inicial\n",
        "  F = pr # A probabilidade acumulada é a própria probabilidade de sucesso neste ponto\n",
        "  while ix >= F: # Enquanto a probabilidade sorteada, referente a um valor do vetor U for maior ou igual à probabilidade acumulada\n",
        "    pr = (1-p)*pr # Calcula-se a probabilidade seguinte, dependendendo da anterior\n",
        "    F = F + pr # E acumula-se essa probabilidade à anterior\n",
        "    i = i + 1 # A cada vez que se for necessário fazer isso, incrementa-se uma unidade em i, que será o valor anexado, ao fim das iterações, no vetor de amostras gerado seguindo distribuição geométrica\n",
        "  a1 = i\n",
        "  x_gen = np.append(x_gen,a1)\n",
        "\n",
        "print(\"Vetor com amostras distribuídas conforme Geométrica: \")\n",
        "print(x_gen)\n",
        "\n",
        "# Cálculo da probabilidade de acordo com a condição e seguindo o conceito de frequência relativa\n",
        "for k in x_gen:\n",
        "  if k == 6:\n",
        "    count = count + 1\n",
        "\n",
        "# x = np.linspace(np.min(x_gen),np.max(x_gen),N)\n",
        "# f_x = p*(1-p)**(x-1)\n",
        "\n",
        "p_6 = count/len(x_gen)\n",
        "p_6t = p*(1-p)**(6-1)\n",
        "\n",
        "print(\"A probabilidade de, na sexta tentativa, a bola ser a primeira preta é de :\")\n",
        "print(p_6)\n",
        "print(\"A probabilidade teórica correspondente é:\")\n",
        "print(p_6t)\n",
        "\n",
        "# plt.plot(x, f_x, color = 'black')\n",
        "plt.hist(x_gen, bins = 50,density = 'True', color = 'blue', label = 'Distribuição geométrica')\n",
        "plt.xlabel(\"Amostras\")\n",
        "plt.ylabel(\"Histograma\")\n",
        "plt.legend()\n",
        "plt.show()"
      ],
      "metadata": {
        "colab": {
          "base_uri": "https://localhost:8080/",
          "height": 588
        },
        "id": "oB0ng3hGASQ2",
        "outputId": "d93f7c33-c8bf-4cd1-8ba6-67b932f978e1"
      },
      "execution_count": 3,
      "outputs": [
        {
          "output_type": "stream",
          "name": "stdout",
          "text": [
            "Vetor com amostras uniformemente distribuídas: \n",
            "[0.17052143 0.85583037 0.56120726 ... 0.20909615 0.74969073 0.97064591]\n",
            "Vetor com amostras distribuídas conforme Geométrica: \n",
            "[1. 4. 2. ... 1. 3. 7.]\n",
            "A probabilidade de, na sexta tentativa, a bola ser a primeira preta é de :\n",
            "0.03088\n",
            "A probabilidade teórica correspondente é:\n",
            "0.031103999999999993\n"
          ]
        },
        {
          "output_type": "display_data",
          "data": {
            "text/plain": [
              "<Figure size 640x480 with 1 Axes>"
            ],
            "image/png": "[encoded data removed]"
          },
          "metadata": {}
        }
      ]
    }
  ]
}
{
  "nbformat": 4,
  "nbformat_minor": 0,
  "metadata": {
    "colab": {
      "provenance": []
    },
    "kernelspec": {
      "name": "python3",
      "display_name": "Python 3"
    },
    "language_info": {
      "name": "python"
    }
  },
  "cells": [
    {
      "cell_type": "code",
      "execution_count": 1,
      "metadata": {
        "id": "SGFYzLdeohny",
        "colab": {
          "base_uri": "https://localhost:8080/"
        },
        "outputId": "ef1ba515-9f56-4b92-efeb-aa2536ef36d9"
      },
      "outputs": [
        {
          "output_type": "stream",
          "name": "stdout",
          "text": [
            "Requirement already satisfied: numpy in /usr/local/lib/python3.10/dist-packages (1.25.2)\n",
            "Requirement already satisfied: matplotlib in /usr/local/lib/python3.10/dist-packages (3.7.1)\n",
            "Requirement already satisfied: contourpy>=1.0.1 in /usr/local/lib/python3.10/dist-packages (from matplotlib) (1.2.0)\n",
            "Requirement already satisfied: cycler>=0.10 in /usr/local/lib/python3.10/dist-packages (from matplotlib) (0.12.1)\n",
            "Requirement already satisfied: fonttools>=4.22.0 in /usr/local/lib/python3.10/dist-packages (from matplotlib) (4.49.0)\n",
            "Requirement already satisfied: kiwisolver>=1.0.1 in /usr/local/lib/python3.10/dist-packages (from matplotlib) (1.4.5)\n",
            "Requirement already satisfied: numpy>=1.20 in /usr/local/lib/python3.10/dist-packages (from matplotlib) (1.25.2)\n",
            "Requirement already satisfied: packaging>=20.0 in /usr/local/lib/python3.10/dist-packages (from matplotlib) (24.0)\n",
            "Requirement already satisfied: pillow>=6.2.0 in /usr/local/lib/python3.10/dist-packages (from matplotlib) (9.4.0)\n",
            "Requirement already satisfied: pyparsing>=2.3.1 in /usr/local/lib/python3.10/dist-packages (from matplotlib) (3.1.2)\n",
            "Requirement already satisfied: python-dateutil>=2.7 in /usr/local/lib/python3.10/dist-packages (from matplotlib) (2.8.2)\n",
            "Requirement already satisfied: six>=1.5 in /usr/local/lib/python3.10/dist-packages (from python-dateutil>=2.7->matplotlib) (1.16.0)\n"
          ]
        }
      ],
      "source": [
        "!pip install numpy\n",
        "!pip install matplotlib"
      ]
    },
    {
      "cell_type": "code",
      "source": [
        "import numpy as np\n",
        "import matplotlib.pyplot as plt\n",
        "\n",
        "# x_n+1 = (ax_n) mod m\n",
        "\n",
        "x=4 # Atribuição de um valor à variável x. Esta seria a semente, o valor inicial para se gerar a sequência\n",
        "x1=np.array([x]) # Cria um vetor com um único elemento. Talvez, para otimizar casos em que se têm vetores com tamanhos variáveis\n",
        "n=12 # Quantidade de amostras geradas. Aqui, configurada igual ao período da sequência.\n",
        "a=5\n",
        "m=7\n",
        "for i in range(n): # Para i variando dentro da faixa de valores de n (a função range(n) gera uma sequência de valores de 0 a n-1)\n",
        "    x=(a*x)%m # O valor atualizado depende do que já está armazenado em x\n",
        "    x1=np.append(x1,x) # O vetor x1 incrementa o valor de x atualizado ao vetor x1 existente\n",
        "print(x1)\n",
        "ind=np.arange(n+1) # Similar à range(), mas pode gerar valores não-inteiros\n",
        "print(ind)\n",
        "plt.bar(ind, x1) # Gera um gráfico que nos mostra o índice da amostra no eixo horizontal e o valor da amostra na vertical (resultado da operação)\n",
        "plt.xlabel('Amostra')\n",
        "plt.ylabel('X(i)')\n",
        "plt.show()"
      ],
      "metadata": {
        "id": "FzG5N1MYpcRe",
        "colab": {
          "base_uri": "https://localhost:8080/",
          "height": 484
        },
        "outputId": "545a106c-0404-4878-f8f6-3e27af3e8d08"
      },
      "execution_count": 5,
      "outputs": [
        {
          "output_type": "stream",
          "name": "stdout",
          "text": [
            "[4 6 2 3 1 5 4 6 2 3 1 5 4]\n",
            "[ 0  1  2  3  4  5  6  7  8  9 10 11 12]\n"
          ]
        },
        {
          "output_type": "display_data",
          "data": {
            "text/plain": [
              "<Figure size 640x480 with 1 Axes>"
            ],
            "image/png": "[encoded data removed]"
          },
          "metadata": {}
        }
      ]
    }
  ]
}